{
 "cells": [
  {
   "cell_type": "markdown",
   "metadata": {},
   "source": [
    "# 8-bit MIPS Design & Simulation\n",
    "\n",
    "## Instruction Set:\n",
    "\n",
    "![Instructions](instructions.png)"
   ]
  },
  {
   "cell_type": "markdown",
   "metadata": {},
   "source": [
    "## Assigned Instructions:\n",
    "| Instruction | Opcode |\n",
    "|:-----------:|:------:|\n",
    "|   **D** (subi)  |  0X00  |\n",
    "|   **C** (and)   |  0X01  |\n",
    "|   **J** (srl)   |  0X02  |\n",
    "|   **O** (bneq)  |  0X03  |\n",
    "|    **G** (or)   |  0X04  |\n",
    "|    **P** (j)    |  0X05  |\n",
    "|   **A** (add)   |  0X06  |\n",
    "|   **F** (andi)  |  0X07  |\n",
    "|   **B** (addi)  |  0X08  |\n",
    "|   **I** (sll)   |  0X09  |\n",
    "|   **N** (beq)   |  0X0A  |\n",
    "|   **H** (ori)   |  0X0B  |\n",
    "|   **E** (and)   |  0X0C  |\n",
    "|   **K** (nor)   |  0X0D  |\n",
    "|    **L** (sw)   |  0X0E  |\n",
    "|    **M** (lw)   |  0X0F  |"
   ]
  },
  {
   "cell_type": "markdown",
   "metadata": {},
   "source": [
    "## Main Control:\n",
    "\n",
    "| Instruction | OpCode | ALUOp | RegDst | Jump | Branch | MemRead | MemtoReg | MemWrite | ALUSrc | RegWrite | HexCode |\n",
    "|-------------|:------:|:-----:|:------:|:----:|:------:|:-------:|:--------:|:--------:|:------:|:--------:|:-------:|\n",
    "| subi        |  0x00  |  001  |    0   |   0  |    0   |    0    |     0    |     0    |    1   |     1    |  0x103  |\n",
    "| and         |  0x01  |  010  |    1   |   0  |    0   |    0    |     0    |     0    |    0   |     1    |  0x281  |\n",
    "| srl         |  0x02  |  110  |    1   |   0  |    0   |    0    |     0    |     0    |    0   |     1    |  0x681  |\n",
    "| bneq        |  0x03  |  111  |    0   |   0  |    1   |    0    |     0    |     0    |    0   |     0    |  0x720  |\n",
    "| or          |  0x04  |  011  |    1   |   0  |    0   |    0    |     0    |     0    |    1   |     1    |  0x383  |\n",
    "| j           |  0x05  |  000  |    0   |   1  |    0   |    0    |     0    |     0    |    0   |     0    |   0x40  |\n",
    "| add         |  0x06  |  000  |    1   |   0  |    0   |    0    |     0    |     0    |    0   |     1    |   0x81  |\n",
    "| andi        |  0x07  |  010  |    0   |   0  |    0   |    0    |     0    |     0    |    1   |     1    |  0x203  |\n",
    "| addi        |  0x08  |  000  |    0   |   0  |    0   |    0    |     0    |     0    |    1   |     1    |   0x3   |\n",
    "| sll         |  0x09  |  101  |    1   |   0  |    0   |    0    |     0    |     0    |    0   |     1    |  0x581  |\n",
    "| beq         |  0x0A  |  000  |    0   |   0  |    1   |    0    |     0    |     0    |    0   |     0    |   0x20  |\n",
    "| ori         |  0x0B  |  011  |    0   |   0  |    0   |    0    |     0    |     0    |    1   |     1    |  0x303  |\n",
    "| and         |  0x0C  |  010  |    1   |   0  |    0   |    0    |     0    |     0    |    0   |     1    |  0x281  |\n",
    "| nor         |  0x0D  |  100  |    1   |   0  |    0   |    0    |     0    |     0    |    0   |     1    |  0x481  |\n",
    "| sw          |  0x0E  |  000  |    0   |   0  |    0   |    0    |     0    |     1    |    1   |     0    |   0x6   |\n",
    "| lw          |  0x0F  |  000  |    0   |   0  |    0   |    1    |     1    |     0    |    1   |     1    |   0x1B  |"
   ]
  },
  {
   "cell_type": "code",
   "execution_count": null,
   "metadata": {},
   "outputs": [],
   "source": []
  },
  {
   "cell_type": "code",
   "execution_count": null,
   "metadata": {},
   "outputs": [],
   "source": []
  }
 ],
 "metadata": {
  "kernelspec": {
   "display_name": "Python 3",
   "language": "python",
   "name": "python3"
  },
  "language_info": {
   "codemirror_mode": {
    "name": "ipython",
    "version": 3
   },
   "file_extension": ".py",
   "mimetype": "text/x-python",
   "name": "python",
   "nbconvert_exporter": "python",
   "pygments_lexer": "ipython3",
   "version": "3.6.4"
  }
 },
 "nbformat": 4,
 "nbformat_minor": 2
}
